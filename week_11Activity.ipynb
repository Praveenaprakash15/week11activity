{
  "nbformat": 4,
  "nbformat_minor": 0,
  "metadata": {
    "colab": {
      "name": "week#11Activity.ipynb",
      "provenance": [],
      "collapsed_sections": []
    },
    "kernelspec": {
      "name": "python3",
      "display_name": "Python 3"
    },
    "language_info": {
      "name": "python"
    }
  },
  "cells": [
    {
      "cell_type": "code",
      "source": [
        "import pandas as pd\n",
        "import numpy as np\n",
        "import seaborn as sns\n",
        "import matplotlib.pyplot as plt"
      ],
      "metadata": {
        "id": "PGJKiPCzmqd0"
      },
      "execution_count": 1,
      "outputs": []
    },
    {
      "cell_type": "code",
      "source": [
        "data=pd.read_csv('/content/sample_data/student-data.csv')\n",
        "data.head()"
      ],
      "metadata": {
        "colab": {
          "base_uri": "https://localhost:8080/",
          "height": 300
        },
        "id": "byQo-MAOm91C",
        "outputId": "d5b16562-d237-4c24-ec4b-8e0c22ea8f0d"
      },
      "execution_count": 2,
      "outputs": [
        {
          "output_type": "execute_result",
          "data": {
            "text/plain": [
              "  school sex  age address famsize Pstatus  Medu  Fedu     Mjob      Fjob  ...  \\\n",
              "0     GP   F   18       U     GT3       A     4     4  at_home   teacher  ...   \n",
              "1     GP   F   17       U     GT3       T     1     1  at_home     other  ...   \n",
              "2     GP   F   15       U     LE3       T     1     1  at_home     other  ...   \n",
              "3     GP   F   15       U     GT3       T     4     2   health  services  ...   \n",
              "4     GP   F   16       U     GT3       T     3     3    other     other  ...   \n",
              "\n",
              "  internet romantic  famrel  freetime  goout Dalc Walc health absences passed  \n",
              "0       no       no       4         3      4    1    1      3        6     no  \n",
              "1      yes       no       5         3      3    1    1      3        4     no  \n",
              "2      yes       no       4         3      2    2    3      3       10    yes  \n",
              "3      yes      yes       3         2      2    1    1      5        2    yes  \n",
              "4       no       no       4         3      2    1    2      5        4    yes  \n",
              "\n",
              "[5 rows x 31 columns]"
            ],
            "text/html": [
              "\n",
              "  <div id=\"df-06840852-7bd7-41ce-825a-10c2ffc33cec\">\n",
              "    <div class=\"colab-df-container\">\n",
              "      <div>\n",
              "<style scoped>\n",
              "    .dataframe tbody tr th:only-of-type {\n",
              "        vertical-align: middle;\n",
              "    }\n",
              "\n",
              "    .dataframe tbody tr th {\n",
              "        vertical-align: top;\n",
              "    }\n",
              "\n",
              "    .dataframe thead th {\n",
              "        text-align: right;\n",
              "    }\n",
              "</style>\n",
              "<table border=\"1\" class=\"dataframe\">\n",
              "  <thead>\n",
              "    <tr style=\"text-align: right;\">\n",
              "      <th></th>\n",
              "      <th>school</th>\n",
              "      <th>sex</th>\n",
              "      <th>age</th>\n",
              "      <th>address</th>\n",
              "      <th>famsize</th>\n",
              "      <th>Pstatus</th>\n",
              "      <th>Medu</th>\n",
              "      <th>Fedu</th>\n",
              "      <th>Mjob</th>\n",
              "      <th>Fjob</th>\n",
              "      <th>...</th>\n",
              "      <th>internet</th>\n",
              "      <th>romantic</th>\n",
              "      <th>famrel</th>\n",
              "      <th>freetime</th>\n",
              "      <th>goout</th>\n",
              "      <th>Dalc</th>\n",
              "      <th>Walc</th>\n",
              "      <th>health</th>\n",
              "      <th>absences</th>\n",
              "      <th>passed</th>\n",
              "    </tr>\n",
              "  </thead>\n",
              "  <tbody>\n",
              "    <tr>\n",
              "      <th>0</th>\n",
              "      <td>GP</td>\n",
              "      <td>F</td>\n",
              "      <td>18</td>\n",
              "      <td>U</td>\n",
              "      <td>GT3</td>\n",
              "      <td>A</td>\n",
              "      <td>4</td>\n",
              "      <td>4</td>\n",
              "      <td>at_home</td>\n",
              "      <td>teacher</td>\n",
              "      <td>...</td>\n",
              "      <td>no</td>\n",
              "      <td>no</td>\n",
              "      <td>4</td>\n",
              "      <td>3</td>\n",
              "      <td>4</td>\n",
              "      <td>1</td>\n",
              "      <td>1</td>\n",
              "      <td>3</td>\n",
              "      <td>6</td>\n",
              "      <td>no</td>\n",
              "    </tr>\n",
              "    <tr>\n",
              "      <th>1</th>\n",
              "      <td>GP</td>\n",
              "      <td>F</td>\n",
              "      <td>17</td>\n",
              "      <td>U</td>\n",
              "      <td>GT3</td>\n",
              "      <td>T</td>\n",
              "      <td>1</td>\n",
              "      <td>1</td>\n",
              "      <td>at_home</td>\n",
              "      <td>other</td>\n",
              "      <td>...</td>\n",
              "      <td>yes</td>\n",
              "      <td>no</td>\n",
              "      <td>5</td>\n",
              "      <td>3</td>\n",
              "      <td>3</td>\n",
              "      <td>1</td>\n",
              "      <td>1</td>\n",
              "      <td>3</td>\n",
              "      <td>4</td>\n",
              "      <td>no</td>\n",
              "    </tr>\n",
              "    <tr>\n",
              "      <th>2</th>\n",
              "      <td>GP</td>\n",
              "      <td>F</td>\n",
              "      <td>15</td>\n",
              "      <td>U</td>\n",
              "      <td>LE3</td>\n",
              "      <td>T</td>\n",
              "      <td>1</td>\n",
              "      <td>1</td>\n",
              "      <td>at_home</td>\n",
              "      <td>other</td>\n",
              "      <td>...</td>\n",
              "      <td>yes</td>\n",
              "      <td>no</td>\n",
              "      <td>4</td>\n",
              "      <td>3</td>\n",
              "      <td>2</td>\n",
              "      <td>2</td>\n",
              "      <td>3</td>\n",
              "      <td>3</td>\n",
              "      <td>10</td>\n",
              "      <td>yes</td>\n",
              "    </tr>\n",
              "    <tr>\n",
              "      <th>3</th>\n",
              "      <td>GP</td>\n",
              "      <td>F</td>\n",
              "      <td>15</td>\n",
              "      <td>U</td>\n",
              "      <td>GT3</td>\n",
              "      <td>T</td>\n",
              "      <td>4</td>\n",
              "      <td>2</td>\n",
              "      <td>health</td>\n",
              "      <td>services</td>\n",
              "      <td>...</td>\n",
              "      <td>yes</td>\n",
              "      <td>yes</td>\n",
              "      <td>3</td>\n",
              "      <td>2</td>\n",
              "      <td>2</td>\n",
              "      <td>1</td>\n",
              "      <td>1</td>\n",
              "      <td>5</td>\n",
              "      <td>2</td>\n",
              "      <td>yes</td>\n",
              "    </tr>\n",
              "    <tr>\n",
              "      <th>4</th>\n",
              "      <td>GP</td>\n",
              "      <td>F</td>\n",
              "      <td>16</td>\n",
              "      <td>U</td>\n",
              "      <td>GT3</td>\n",
              "      <td>T</td>\n",
              "      <td>3</td>\n",
              "      <td>3</td>\n",
              "      <td>other</td>\n",
              "      <td>other</td>\n",
              "      <td>...</td>\n",
              "      <td>no</td>\n",
              "      <td>no</td>\n",
              "      <td>4</td>\n",
              "      <td>3</td>\n",
              "      <td>2</td>\n",
              "      <td>1</td>\n",
              "      <td>2</td>\n",
              "      <td>5</td>\n",
              "      <td>4</td>\n",
              "      <td>yes</td>\n",
              "    </tr>\n",
              "  </tbody>\n",
              "</table>\n",
              "<p>5 rows × 31 columns</p>\n",
              "</div>\n",
              "      <button class=\"colab-df-convert\" onclick=\"convertToInteractive('df-06840852-7bd7-41ce-825a-10c2ffc33cec')\"\n",
              "              title=\"Convert this dataframe to an interactive table.\"\n",
              "              style=\"display:none;\">\n",
              "        \n",
              "  <svg xmlns=\"http://www.w3.org/2000/svg\" height=\"24px\"viewBox=\"0 0 24 24\"\n",
              "       width=\"24px\">\n",
              "    <path d=\"M0 0h24v24H0V0z\" fill=\"none\"/>\n",
              "    <path d=\"M18.56 5.44l.94 2.06.94-2.06 2.06-.94-2.06-.94-.94-2.06-.94 2.06-2.06.94zm-11 1L8.5 8.5l.94-2.06 2.06-.94-2.06-.94L8.5 2.5l-.94 2.06-2.06.94zm10 10l.94 2.06.94-2.06 2.06-.94-2.06-.94-.94-2.06-.94 2.06-2.06.94z\"/><path d=\"M17.41 7.96l-1.37-1.37c-.4-.4-.92-.59-1.43-.59-.52 0-1.04.2-1.43.59L10.3 9.45l-7.72 7.72c-.78.78-.78 2.05 0 2.83L4 21.41c.39.39.9.59 1.41.59.51 0 1.02-.2 1.41-.59l7.78-7.78 2.81-2.81c.8-.78.8-2.07 0-2.86zM5.41 20L4 18.59l7.72-7.72 1.47 1.35L5.41 20z\"/>\n",
              "  </svg>\n",
              "      </button>\n",
              "      \n",
              "  <style>\n",
              "    .colab-df-container {\n",
              "      display:flex;\n",
              "      flex-wrap:wrap;\n",
              "      gap: 12px;\n",
              "    }\n",
              "\n",
              "    .colab-df-convert {\n",
              "      background-color: #E8F0FE;\n",
              "      border: none;\n",
              "      border-radius: 50%;\n",
              "      cursor: pointer;\n",
              "      display: none;\n",
              "      fill: #1967D2;\n",
              "      height: 32px;\n",
              "      padding: 0 0 0 0;\n",
              "      width: 32px;\n",
              "    }\n",
              "\n",
              "    .colab-df-convert:hover {\n",
              "      background-color: #E2EBFA;\n",
              "      box-shadow: 0px 1px 2px rgba(60, 64, 67, 0.3), 0px 1px 3px 1px rgba(60, 64, 67, 0.15);\n",
              "      fill: #174EA6;\n",
              "    }\n",
              "\n",
              "    [theme=dark] .colab-df-convert {\n",
              "      background-color: #3B4455;\n",
              "      fill: #D2E3FC;\n",
              "    }\n",
              "\n",
              "    [theme=dark] .colab-df-convert:hover {\n",
              "      background-color: #434B5C;\n",
              "      box-shadow: 0px 1px 3px 1px rgba(0, 0, 0, 0.15);\n",
              "      filter: drop-shadow(0px 1px 2px rgba(0, 0, 0, 0.3));\n",
              "      fill: #FFFFFF;\n",
              "    }\n",
              "  </style>\n",
              "\n",
              "      <script>\n",
              "        const buttonEl =\n",
              "          document.querySelector('#df-06840852-7bd7-41ce-825a-10c2ffc33cec button.colab-df-convert');\n",
              "        buttonEl.style.display =\n",
              "          google.colab.kernel.accessAllowed ? 'block' : 'none';\n",
              "\n",
              "        async function convertToInteractive(key) {\n",
              "          const element = document.querySelector('#df-06840852-7bd7-41ce-825a-10c2ffc33cec');\n",
              "          const dataTable =\n",
              "            await google.colab.kernel.invokeFunction('convertToInteractive',\n",
              "                                                     [key], {});\n",
              "          if (!dataTable) return;\n",
              "\n",
              "          const docLinkHtml = 'Like what you see? Visit the ' +\n",
              "            '<a target=\"_blank\" href=https://colab.research.google.com/notebooks/data_table.ipynb>data table notebook</a>'\n",
              "            + ' to learn more about interactive tables.';\n",
              "          element.innerHTML = '';\n",
              "          dataTable['output_type'] = 'display_data';\n",
              "          await google.colab.output.renderOutput(dataTable, element);\n",
              "          const docLink = document.createElement('div');\n",
              "          docLink.innerHTML = docLinkHtml;\n",
              "          element.appendChild(docLink);\n",
              "        }\n",
              "      </script>\n",
              "    </div>\n",
              "  </div>\n",
              "  "
            ]
          },
          "metadata": {},
          "execution_count": 2
        }
      ]
    },
    {
      "cell_type": "code",
      "source": [
        "data.info()"
      ],
      "metadata": {
        "colab": {
          "base_uri": "https://localhost:8080/"
        },
        "id": "PiDPcnOZnDQ3",
        "outputId": "f98faa78-69ef-4c79-9e79-1c897dbf713a"
      },
      "execution_count": 3,
      "outputs": [
        {
          "output_type": "stream",
          "name": "stdout",
          "text": [
            "<class 'pandas.core.frame.DataFrame'>\n",
            "RangeIndex: 395 entries, 0 to 394\n",
            "Data columns (total 31 columns):\n",
            " #   Column      Non-Null Count  Dtype \n",
            "---  ------      --------------  ----- \n",
            " 0   school      395 non-null    object\n",
            " 1   sex         395 non-null    object\n",
            " 2   age         395 non-null    int64 \n",
            " 3   address     395 non-null    object\n",
            " 4   famsize     395 non-null    object\n",
            " 5   Pstatus     395 non-null    object\n",
            " 6   Medu        395 non-null    int64 \n",
            " 7   Fedu        395 non-null    int64 \n",
            " 8   Mjob        395 non-null    object\n",
            " 9   Fjob        395 non-null    object\n",
            " 10  reason      395 non-null    object\n",
            " 11  guardian    395 non-null    object\n",
            " 12  traveltime  395 non-null    int64 \n",
            " 13  studytime   395 non-null    int64 \n",
            " 14  failures    395 non-null    int64 \n",
            " 15  schoolsup   395 non-null    object\n",
            " 16  famsup      395 non-null    object\n",
            " 17  paid        395 non-null    object\n",
            " 18  activities  395 non-null    object\n",
            " 19  nursery     395 non-null    object\n",
            " 20  higher      395 non-null    object\n",
            " 21  internet    395 non-null    object\n",
            " 22  romantic    395 non-null    object\n",
            " 23  famrel      395 non-null    int64 \n",
            " 24  freetime    395 non-null    int64 \n",
            " 25  goout       395 non-null    int64 \n",
            " 26  Dalc        395 non-null    int64 \n",
            " 27  Walc        395 non-null    int64 \n",
            " 28  health      395 non-null    int64 \n",
            " 29  absences    395 non-null    int64 \n",
            " 30  passed      395 non-null    object\n",
            "dtypes: int64(13), object(18)\n",
            "memory usage: 95.8+ KB\n"
          ]
        }
      ]
    },
    {
      "cell_type": "code",
      "source": [
        "data.describe()"
      ],
      "metadata": {
        "colab": {
          "base_uri": "https://localhost:8080/",
          "height": 364
        },
        "id": "G5eSJWuWnLOH",
        "outputId": "f53be4d4-e0bc-4a37-e87d-252b47df3dff"
      },
      "execution_count": 4,
      "outputs": [
        {
          "output_type": "execute_result",
          "data": {
            "text/plain": [
              "              age        Medu        Fedu  traveltime   studytime    failures  \\\n",
              "count  395.000000  395.000000  395.000000  395.000000  395.000000  395.000000   \n",
              "mean    16.696203    2.749367    2.521519    1.448101    2.035443    0.334177   \n",
              "std      1.276043    1.094735    1.088201    0.697505    0.839240    0.743651   \n",
              "min     15.000000    0.000000    0.000000    1.000000    1.000000    0.000000   \n",
              "25%     16.000000    2.000000    2.000000    1.000000    1.000000    0.000000   \n",
              "50%     17.000000    3.000000    2.000000    1.000000    2.000000    0.000000   \n",
              "75%     18.000000    4.000000    3.000000    2.000000    2.000000    0.000000   \n",
              "max     22.000000    4.000000    4.000000    4.000000    4.000000    3.000000   \n",
              "\n",
              "           famrel    freetime       goout        Dalc        Walc      health  \\\n",
              "count  395.000000  395.000000  395.000000  395.000000  395.000000  395.000000   \n",
              "mean     3.944304    3.235443    3.108861    1.481013    2.291139    3.554430   \n",
              "std      0.896659    0.998862    1.113278    0.890741    1.287897    1.390303   \n",
              "min      1.000000    1.000000    1.000000    1.000000    1.000000    1.000000   \n",
              "25%      4.000000    3.000000    2.000000    1.000000    1.000000    3.000000   \n",
              "50%      4.000000    3.000000    3.000000    1.000000    2.000000    4.000000   \n",
              "75%      5.000000    4.000000    4.000000    2.000000    3.000000    5.000000   \n",
              "max      5.000000    5.000000    5.000000    5.000000    5.000000    5.000000   \n",
              "\n",
              "         absences  \n",
              "count  395.000000  \n",
              "mean     5.708861  \n",
              "std      8.003096  \n",
              "min      0.000000  \n",
              "25%      0.000000  \n",
              "50%      4.000000  \n",
              "75%      8.000000  \n",
              "max     75.000000  "
            ],
            "text/html": [
              "\n",
              "  <div id=\"df-c1a04bc8-4ac2-42b1-b92d-afc2cef3309c\">\n",
              "    <div class=\"colab-df-container\">\n",
              "      <div>\n",
              "<style scoped>\n",
              "    .dataframe tbody tr th:only-of-type {\n",
              "        vertical-align: middle;\n",
              "    }\n",
              "\n",
              "    .dataframe tbody tr th {\n",
              "        vertical-align: top;\n",
              "    }\n",
              "\n",
              "    .dataframe thead th {\n",
              "        text-align: right;\n",
              "    }\n",
              "</style>\n",
              "<table border=\"1\" class=\"dataframe\">\n",
              "  <thead>\n",
              "    <tr style=\"text-align: right;\">\n",
              "      <th></th>\n",
              "      <th>age</th>\n",
              "      <th>Medu</th>\n",
              "      <th>Fedu</th>\n",
              "      <th>traveltime</th>\n",
              "      <th>studytime</th>\n",
              "      <th>failures</th>\n",
              "      <th>famrel</th>\n",
              "      <th>freetime</th>\n",
              "      <th>goout</th>\n",
              "      <th>Dalc</th>\n",
              "      <th>Walc</th>\n",
              "      <th>health</th>\n",
              "      <th>absences</th>\n",
              "    </tr>\n",
              "  </thead>\n",
              "  <tbody>\n",
              "    <tr>\n",
              "      <th>count</th>\n",
              "      <td>395.000000</td>\n",
              "      <td>395.000000</td>\n",
              "      <td>395.000000</td>\n",
              "      <td>395.000000</td>\n",
              "      <td>395.000000</td>\n",
              "      <td>395.000000</td>\n",
              "      <td>395.000000</td>\n",
              "      <td>395.000000</td>\n",
              "      <td>395.000000</td>\n",
              "      <td>395.000000</td>\n",
              "      <td>395.000000</td>\n",
              "      <td>395.000000</td>\n",
              "      <td>395.000000</td>\n",
              "    </tr>\n",
              "    <tr>\n",
              "      <th>mean</th>\n",
              "      <td>16.696203</td>\n",
              "      <td>2.749367</td>\n",
              "      <td>2.521519</td>\n",
              "      <td>1.448101</td>\n",
              "      <td>2.035443</td>\n",
              "      <td>0.334177</td>\n",
              "      <td>3.944304</td>\n",
              "      <td>3.235443</td>\n",
              "      <td>3.108861</td>\n",
              "      <td>1.481013</td>\n",
              "      <td>2.291139</td>\n",
              "      <td>3.554430</td>\n",
              "      <td>5.708861</td>\n",
              "    </tr>\n",
              "    <tr>\n",
              "      <th>std</th>\n",
              "      <td>1.276043</td>\n",
              "      <td>1.094735</td>\n",
              "      <td>1.088201</td>\n",
              "      <td>0.697505</td>\n",
              "      <td>0.839240</td>\n",
              "      <td>0.743651</td>\n",
              "      <td>0.896659</td>\n",
              "      <td>0.998862</td>\n",
              "      <td>1.113278</td>\n",
              "      <td>0.890741</td>\n",
              "      <td>1.287897</td>\n",
              "      <td>1.390303</td>\n",
              "      <td>8.003096</td>\n",
              "    </tr>\n",
              "    <tr>\n",
              "      <th>min</th>\n",
              "      <td>15.000000</td>\n",
              "      <td>0.000000</td>\n",
              "      <td>0.000000</td>\n",
              "      <td>1.000000</td>\n",
              "      <td>1.000000</td>\n",
              "      <td>0.000000</td>\n",
              "      <td>1.000000</td>\n",
              "      <td>1.000000</td>\n",
              "      <td>1.000000</td>\n",
              "      <td>1.000000</td>\n",
              "      <td>1.000000</td>\n",
              "      <td>1.000000</td>\n",
              "      <td>0.000000</td>\n",
              "    </tr>\n",
              "    <tr>\n",
              "      <th>25%</th>\n",
              "      <td>16.000000</td>\n",
              "      <td>2.000000</td>\n",
              "      <td>2.000000</td>\n",
              "      <td>1.000000</td>\n",
              "      <td>1.000000</td>\n",
              "      <td>0.000000</td>\n",
              "      <td>4.000000</td>\n",
              "      <td>3.000000</td>\n",
              "      <td>2.000000</td>\n",
              "      <td>1.000000</td>\n",
              "      <td>1.000000</td>\n",
              "      <td>3.000000</td>\n",
              "      <td>0.000000</td>\n",
              "    </tr>\n",
              "    <tr>\n",
              "      <th>50%</th>\n",
              "      <td>17.000000</td>\n",
              "      <td>3.000000</td>\n",
              "      <td>2.000000</td>\n",
              "      <td>1.000000</td>\n",
              "      <td>2.000000</td>\n",
              "      <td>0.000000</td>\n",
              "      <td>4.000000</td>\n",
              "      <td>3.000000</td>\n",
              "      <td>3.000000</td>\n",
              "      <td>1.000000</td>\n",
              "      <td>2.000000</td>\n",
              "      <td>4.000000</td>\n",
              "      <td>4.000000</td>\n",
              "    </tr>\n",
              "    <tr>\n",
              "      <th>75%</th>\n",
              "      <td>18.000000</td>\n",
              "      <td>4.000000</td>\n",
              "      <td>3.000000</td>\n",
              "      <td>2.000000</td>\n",
              "      <td>2.000000</td>\n",
              "      <td>0.000000</td>\n",
              "      <td>5.000000</td>\n",
              "      <td>4.000000</td>\n",
              "      <td>4.000000</td>\n",
              "      <td>2.000000</td>\n",
              "      <td>3.000000</td>\n",
              "      <td>5.000000</td>\n",
              "      <td>8.000000</td>\n",
              "    </tr>\n",
              "    <tr>\n",
              "      <th>max</th>\n",
              "      <td>22.000000</td>\n",
              "      <td>4.000000</td>\n",
              "      <td>4.000000</td>\n",
              "      <td>4.000000</td>\n",
              "      <td>4.000000</td>\n",
              "      <td>3.000000</td>\n",
              "      <td>5.000000</td>\n",
              "      <td>5.000000</td>\n",
              "      <td>5.000000</td>\n",
              "      <td>5.000000</td>\n",
              "      <td>5.000000</td>\n",
              "      <td>5.000000</td>\n",
              "      <td>75.000000</td>\n",
              "    </tr>\n",
              "  </tbody>\n",
              "</table>\n",
              "</div>\n",
              "      <button class=\"colab-df-convert\" onclick=\"convertToInteractive('df-c1a04bc8-4ac2-42b1-b92d-afc2cef3309c')\"\n",
              "              title=\"Convert this dataframe to an interactive table.\"\n",
              "              style=\"display:none;\">\n",
              "        \n",
              "  <svg xmlns=\"http://www.w3.org/2000/svg\" height=\"24px\"viewBox=\"0 0 24 24\"\n",
              "       width=\"24px\">\n",
              "    <path d=\"M0 0h24v24H0V0z\" fill=\"none\"/>\n",
              "    <path d=\"M18.56 5.44l.94 2.06.94-2.06 2.06-.94-2.06-.94-.94-2.06-.94 2.06-2.06.94zm-11 1L8.5 8.5l.94-2.06 2.06-.94-2.06-.94L8.5 2.5l-.94 2.06-2.06.94zm10 10l.94 2.06.94-2.06 2.06-.94-2.06-.94-.94-2.06-.94 2.06-2.06.94z\"/><path d=\"M17.41 7.96l-1.37-1.37c-.4-.4-.92-.59-1.43-.59-.52 0-1.04.2-1.43.59L10.3 9.45l-7.72 7.72c-.78.78-.78 2.05 0 2.83L4 21.41c.39.39.9.59 1.41.59.51 0 1.02-.2 1.41-.59l7.78-7.78 2.81-2.81c.8-.78.8-2.07 0-2.86zM5.41 20L4 18.59l7.72-7.72 1.47 1.35L5.41 20z\"/>\n",
              "  </svg>\n",
              "      </button>\n",
              "      \n",
              "  <style>\n",
              "    .colab-df-container {\n",
              "      display:flex;\n",
              "      flex-wrap:wrap;\n",
              "      gap: 12px;\n",
              "    }\n",
              "\n",
              "    .colab-df-convert {\n",
              "      background-color: #E8F0FE;\n",
              "      border: none;\n",
              "      border-radius: 50%;\n",
              "      cursor: pointer;\n",
              "      display: none;\n",
              "      fill: #1967D2;\n",
              "      height: 32px;\n",
              "      padding: 0 0 0 0;\n",
              "      width: 32px;\n",
              "    }\n",
              "\n",
              "    .colab-df-convert:hover {\n",
              "      background-color: #E2EBFA;\n",
              "      box-shadow: 0px 1px 2px rgba(60, 64, 67, 0.3), 0px 1px 3px 1px rgba(60, 64, 67, 0.15);\n",
              "      fill: #174EA6;\n",
              "    }\n",
              "\n",
              "    [theme=dark] .colab-df-convert {\n",
              "      background-color: #3B4455;\n",
              "      fill: #D2E3FC;\n",
              "    }\n",
              "\n",
              "    [theme=dark] .colab-df-convert:hover {\n",
              "      background-color: #434B5C;\n",
              "      box-shadow: 0px 1px 3px 1px rgba(0, 0, 0, 0.15);\n",
              "      filter: drop-shadow(0px 1px 2px rgba(0, 0, 0, 0.3));\n",
              "      fill: #FFFFFF;\n",
              "    }\n",
              "  </style>\n",
              "\n",
              "      <script>\n",
              "        const buttonEl =\n",
              "          document.querySelector('#df-c1a04bc8-4ac2-42b1-b92d-afc2cef3309c button.colab-df-convert');\n",
              "        buttonEl.style.display =\n",
              "          google.colab.kernel.accessAllowed ? 'block' : 'none';\n",
              "\n",
              "        async function convertToInteractive(key) {\n",
              "          const element = document.querySelector('#df-c1a04bc8-4ac2-42b1-b92d-afc2cef3309c');\n",
              "          const dataTable =\n",
              "            await google.colab.kernel.invokeFunction('convertToInteractive',\n",
              "                                                     [key], {});\n",
              "          if (!dataTable) return;\n",
              "\n",
              "          const docLinkHtml = 'Like what you see? Visit the ' +\n",
              "            '<a target=\"_blank\" href=https://colab.research.google.com/notebooks/data_table.ipynb>data table notebook</a>'\n",
              "            + ' to learn more about interactive tables.';\n",
              "          element.innerHTML = '';\n",
              "          dataTable['output_type'] = 'display_data';\n",
              "          await google.colab.output.renderOutput(dataTable, element);\n",
              "          const docLink = document.createElement('div');\n",
              "          docLink.innerHTML = docLinkHtml;\n",
              "          element.appendChild(docLink);\n",
              "        }\n",
              "      </script>\n",
              "    </div>\n",
              "  </div>\n",
              "  "
            ]
          },
          "metadata": {},
          "execution_count": 4
        }
      ]
    },
    {
      "cell_type": "code",
      "source": [
        "data.isna().sum()"
      ],
      "metadata": {
        "colab": {
          "base_uri": "https://localhost:8080/"
        },
        "id": "pHnEsLP3nPWG",
        "outputId": "f2fd9738-328f-495a-bbfc-f6a568603ad7"
      },
      "execution_count": 5,
      "outputs": [
        {
          "output_type": "execute_result",
          "data": {
            "text/plain": [
              "school        0\n",
              "sex           0\n",
              "age           0\n",
              "address       0\n",
              "famsize       0\n",
              "Pstatus       0\n",
              "Medu          0\n",
              "Fedu          0\n",
              "Mjob          0\n",
              "Fjob          0\n",
              "reason        0\n",
              "guardian      0\n",
              "traveltime    0\n",
              "studytime     0\n",
              "failures      0\n",
              "schoolsup     0\n",
              "famsup        0\n",
              "paid          0\n",
              "activities    0\n",
              "nursery       0\n",
              "higher        0\n",
              "internet      0\n",
              "romantic      0\n",
              "famrel        0\n",
              "freetime      0\n",
              "goout         0\n",
              "Dalc          0\n",
              "Walc          0\n",
              "health        0\n",
              "absences      0\n",
              "passed        0\n",
              "dtype: int64"
            ]
          },
          "metadata": {},
          "execution_count": 5
        }
      ]
    },
    {
      "cell_type": "code",
      "source": [
        "data.shape"
      ],
      "metadata": {
        "colab": {
          "base_uri": "https://localhost:8080/"
        },
        "id": "oUoC245snVcn",
        "outputId": "e11b1ae4-3174-466a-aef9-d4f4570400eb"
      },
      "execution_count": 6,
      "outputs": [
        {
          "output_type": "execute_result",
          "data": {
            "text/plain": [
              "(395, 31)"
            ]
          },
          "metadata": {},
          "execution_count": 6
        }
      ]
    },
    {
      "cell_type": "code",
      "source": [
        "#checking for outliers\n",
        "plt.figure(figsize=(16,7))\n",
        "data.boxplot()"
      ],
      "metadata": {
        "colab": {
          "base_uri": "https://localhost:8080/",
          "height": 445
        },
        "id": "oiIBI8qBnaIP",
        "outputId": "6feb932c-ea0b-4c44-a1ce-cb2bd4367388"
      },
      "execution_count": 7,
      "outputs": [
        {
          "output_type": "execute_result",
          "data": {
            "text/plain": [
              "<matplotlib.axes._subplots.AxesSubplot at 0x7f27f4044190>"
            ]
          },
          "metadata": {},
          "execution_count": 7
        },
        {
          "output_type": "display_data",
          "data": {
            "text/plain": [
              "<Figure size 1152x504 with 1 Axes>"
            ],
            "image/png": "[encoded data removed]"
          },
          "metadata": {
            "needs_background": "light"
          }
        }
      ]
    },
    {
      "cell_type": "code",
      "source": [
        "#Handling outliers in 'age'\n",
        "Q1=np.percentile(data['age'],25,interpolation='midpoint')\n",
        "Q2=np.percentile(data['age'],50,interpolation='midpoint')\n",
        "Q3=np.percentile(data['age'],75,interpolation='midpoint')\n",
        "print('Q1=',Q1)\n",
        "print('Q2=',Q2)\n",
        "print('Q3=',Q3)\n",
        "IQR=Q3-Q1\n",
        "low_lim=Q1-1.5*IQR\n",
        "up_lim=Q3+1.5*IQR\n",
        "print('low_lim=',low_lim)\n",
        "print('up_lim=',up_lim)\n",
        "outlier=[]\n",
        "for x in data['age']:\n",
        "  if((x>up_lim)or (x<low_lim)):\n",
        "    outlier.append(x)\n",
        "outlier"
      ],
      "metadata": {
        "colab": {
          "base_uri": "https://localhost:8080/"
        },
        "id": "TT_nfhunnfL_",
        "outputId": "37bd8f4a-f6f1-41bf-b968-8eef430edf54"
      },
      "execution_count": 8,
      "outputs": [
        {
          "output_type": "stream",
          "name": "stdout",
          "text": [
            "Q1= 16.0\n",
            "Q2= 17.0\n",
            "Q3= 18.0\n",
            "low_lim= 13.0\n",
            "up_lim= 21.0\n"
          ]
        },
        {
          "output_type": "execute_result",
          "data": {
            "text/plain": [
              "[22]"
            ]
          },
          "metadata": {},
          "execution_count": 8
        }
      ]
    },
    {
      "cell_type": "code",
      "source": [
        "ind_1 =data[\"age\"]>up_lim\n",
        "data.loc[ind_1].index"
      ],
      "metadata": {
        "colab": {
          "base_uri": "https://localhost:8080/"
        },
        "id": "sqp5GTaPnk2n",
        "outputId": "be83d17b-eb2d-4df1-b7ac-c0e71288b214"
      },
      "execution_count": 9,
      "outputs": [
        {
          "output_type": "execute_result",
          "data": {
            "text/plain": [
              "Int64Index([247], dtype='int64')"
            ]
          },
          "metadata": {},
          "execution_count": 9
        }
      ]
    },
    {
      "cell_type": "code",
      "source": [
        "data.drop([247],inplace=True)"
      ],
      "metadata": {
        "id": "Wbpa6O9-nodZ"
      },
      "execution_count": 10,
      "outputs": []
    },
    {
      "cell_type": "code",
      "source": [
        "#Handling outliers in 'Fedu'\n",
        "Q1=np.percentile(data['Fedu'],25,interpolation='midpoint')\n",
        "Q2=np.percentile(data['Fedu'],50,interpolation='midpoint')\n",
        "Q3=np.percentile(data['Fedu'],75,interpolation='midpoint')\n",
        "print('Q1=',Q1)\n",
        "print('Q2=',Q2)\n",
        "print('Q3=',Q3)\n",
        "IQR=Q3-Q1\n",
        "low_lim=Q1-1.5*IQR\n",
        "up_lim=Q3+1.5*IQR\n",
        "print('low_lim=',low_lim)\n",
        "print('up_lim=',up_lim)\n",
        "outlier=[]\n",
        "for x in data['Fedu']:\n",
        "  if((x>up_lim)or (x<low_lim)):\n",
        "    outlier.append(x)\n",
        "outlier"
      ],
      "metadata": {
        "colab": {
          "base_uri": "https://localhost:8080/"
        },
        "id": "zKOIPegontEm",
        "outputId": "39c7b7e0-367c-4ea3-842b-5fa13b4b1278"
      },
      "execution_count": 11,
      "outputs": [
        {
          "output_type": "stream",
          "name": "stdout",
          "text": [
            "Q1= 2.0\n",
            "Q2= 2.0\n",
            "Q3= 3.0\n",
            "low_lim= 0.5\n",
            "up_lim= 4.5\n"
          ]
        },
        {
          "output_type": "execute_result",
          "data": {
            "text/plain": [
              "[0, 0]"
            ]
          },
          "metadata": {},
          "execution_count": 11
        }
      ]
    },
    {
      "cell_type": "code",
      "source": [
        "ind1 =data['Fedu']<low_lim\n",
        "data.loc[ind1].index"
      ],
      "metadata": {
        "colab": {
          "base_uri": "https://localhost:8080/"
        },
        "id": "sPIaLi99nxbO",
        "outputId": "bd5f2297-e398-4b52-aba1-4e72781c8544"
      },
      "execution_count": 12,
      "outputs": [
        {
          "output_type": "execute_result",
          "data": {
            "text/plain": [
              "Int64Index([76, 171], dtype='int64')"
            ]
          },
          "metadata": {},
          "execution_count": 12
        }
      ]
    },
    {
      "cell_type": "code",
      "source": [
        "data.drop([76, 171],inplace=True)"
      ],
      "metadata": {
        "id": "gxpo3-Sxn02O"
      },
      "execution_count": 13,
      "outputs": []
    },
    {
      "cell_type": "code",
      "source": [
        "#Handling outliers in 'traveltime'\n",
        "Q1=np.percentile(data['traveltime'],25,interpolation='midpoint')\n",
        "Q2=np.percentile(data['traveltime'],50,interpolation='midpoint')\n",
        "Q3=np.percentile(data['traveltime'],75,interpolation='midpoint')\n",
        "print('Q1=',Q1)\n",
        "print('Q2=',Q2)\n",
        "print('Q3=',Q3)\n",
        "IQR=Q3-Q1\n",
        "low_lim=Q1-1.5*IQR\n",
        "up_lim=Q3+1.5*IQR\n",
        "print('low_lim=',low_lim)\n",
        "print('up_lim=',up_lim)\n",
        "outlier=[]\n",
        "for x in data['traveltime']:\n",
        "  if((x>up_lim)or (x<low_lim)):\n",
        "    outlier.append(x)\n",
        "outlier\n",
        "ind1 =data[\"traveltime\"]<low_lim\n",
        "data.loc[ind1].index\n",
        "ind2 =data[\"traveltime\"]>up_lim\n",
        "data.loc[ind2].index"
      ],
      "metadata": {
        "colab": {
          "base_uri": "https://localhost:8080/"
        },
        "id": "eL2ne1Zln9tW",
        "outputId": "a1610718-5276-458f-bd8e-92f3a1eacacc"
      },
      "execution_count": 14,
      "outputs": [
        {
          "output_type": "stream",
          "name": "stdout",
          "text": [
            "Q1= 1.0\n",
            "Q2= 1.0\n",
            "Q3= 2.0\n",
            "low_lim= -0.5\n",
            "up_lim= 3.5\n"
          ]
        },
        {
          "output_type": "execute_result",
          "data": {
            "text/plain": [
              "Int64Index([61, 108, 134, 149, 164, 228, 327, 375], dtype='int64')"
            ]
          },
          "metadata": {},
          "execution_count": 14
        }
      ]
    },
    {
      "cell_type": "code",
      "source": [
        "data.drop([61, 108, 134, 149, 164, 228, 327, 375],inplace=True)"
      ],
      "metadata": {
        "id": "QrzmlYqHoJkf"
      },
      "execution_count": 15,
      "outputs": []
    },
    {
      "cell_type": "code",
      "source": [
        "#Handling outliers in 'studytime'\n",
        "Q1=np.percentile(data['studytime'],25,interpolation='midpoint')\n",
        "Q2=np.percentile(data['studytime'],50,interpolation='midpoint')\n",
        "Q3=np.percentile(data['studytime'],75,interpolation='midpoint')\n",
        "print('Q1=',Q1)\n",
        "print('Q2=',Q2)\n",
        "print('Q3=',Q3)\n",
        "IQR=Q3-Q1\n",
        "low_lim=Q1-1.5*IQR\n",
        "up_lim=Q3+1.5*IQR\n",
        "print('low_lim=',low_lim)\n",
        "print('up_lim=',up_lim)\n",
        "outlier=[]\n",
        "for x in data['studytime']:\n",
        "  if((x>up_lim)or (x<low_lim)):\n",
        "    outlier.append(x)\n",
        "outlier\n",
        "ind1 =data[\"studytime\"]<low_lim\n",
        "data.loc[ind1].index\n",
        "ind2 =data[\"studytime\"]>up_lim\n",
        "data.loc[ind2].index"
      ],
      "metadata": {
        "colab": {
          "base_uri": "https://localhost:8080/"
        },
        "id": "XG1JXfEsoOoe",
        "outputId": "28ce3261-e220-40c3-9574-fb6d807739cc"
      },
      "execution_count": 16,
      "outputs": [
        {
          "output_type": "stream",
          "name": "stdout",
          "text": [
            "Q1= 1.0\n",
            "Q2= 2.0\n",
            "Q3= 2.0\n",
            "low_lim= -0.5\n",
            "up_lim= 3.5\n"
          ]
        },
        {
          "output_type": "execute_result",
          "data": {
            "text/plain": [
              "Int64Index([ 47,  66,  67,  69,  70,  71,  77,  94,  95, 105, 106, 121, 140,\n",
              "            204, 210, 256, 259, 271, 282, 293, 298, 303, 330, 334, 338],\n",
              "           dtype='int64')"
            ]
          },
          "metadata": {},
          "execution_count": 16
        }
      ]
    },
    {
      "cell_type": "code",
      "source": [
        "data.drop([47,  66,  67,  69,  70,  71,  77,  94,  95, 105, 106, 121, 140,204, 210, 256, 259, 271, 282, 293, 298, 303, 330, 334, 338],inplace=True)"
      ],
      "metadata": {
        "id": "r2Yvmpi4oUkO"
      },
      "execution_count": 17,
      "outputs": []
    },
    {
      "cell_type": "code",
      "source": [
        "#Handling outliers in 'failures'\n",
        "Q1=np.percentile(data['failures'],25,interpolation='midpoint')\n",
        "Q2=np.percentile(data['failures'],50,interpolation='midpoint')\n",
        "Q3=np.percentile(data['failures'],75,interpolation='midpoint')\n",
        "print('Q1=',Q1)\n",
        "print('Q2=',Q2)\n",
        "print('Q3=',Q3)\n",
        "IQR=Q3-Q1\n",
        "low_lim=Q1-1.5*IQR\n",
        "up_lim=Q3+1.5*IQR\n",
        "print('low_lim=',low_lim)\n",
        "print('up_lim=',up_lim)\n",
        "outlier=[]\n",
        "for x in data['failures']:\n",
        "  if((x>up_lim)or (x<low_lim)):\n",
        "    outlier.append(x)\n",
        "outlier\n",
        "ind1 =data[\"failures\"]<low_lim\n",
        "data.loc[ind1].index\n",
        "ind2 =data[\"failures\"]>up_lim\n",
        "data.loc[ind2].index"
      ],
      "metadata": {
        "colab": {
          "base_uri": "https://localhost:8080/"
        },
        "id": "dzSiYmcaohGG",
        "outputId": "360554e5-199a-44c9-e9be-f2b0b3d00337"
      },
      "execution_count": 18,
      "outputs": [
        {
          "output_type": "stream",
          "name": "stdout",
          "text": [
            "Q1= 0.0\n",
            "Q2= 0.0\n",
            "Q3= 0.0\n",
            "low_lim= 0.0\n",
            "up_lim= 0.0\n"
          ]
        },
        {
          "output_type": "execute_result",
          "data": {
            "text/plain": [
              "Int64Index([  2,  18,  25,  40,  44,  49,  52,  72,  78,  85,  88, 111, 112,\n",
              "            118, 127, 128, 130, 137, 138, 141, 144, 146, 150, 151, 152, 153,\n",
              "            157, 159, 160, 161, 162, 165, 170, 173, 198, 205, 206, 213, 216,\n",
              "            217, 221, 225, 239, 248, 250, 252, 255, 270, 278, 281, 292, 304,\n",
              "            305, 307, 308, 309, 310, 312, 313, 314, 315, 336, 340, 341, 343,\n",
              "            349, 350, 352, 353, 361, 367, 370, 376, 383, 384, 387, 389, 390,\n",
              "            392],\n",
              "           dtype='int64')"
            ]
          },
          "metadata": {},
          "execution_count": 18
        }
      ]
    },
    {
      "cell_type": "code",
      "source": [
        "data.drop([2,  18,  25,  40,  44,  49,  52,  72,  78,  85,  88, 111, 112, 118, 127, 128, 130, 137, 138, 141, 144, 146, 150, 151, 152, 153,157, 159, 160, 161, 162, 165, 170, 173, 198, 205, 206, 213, 216, 217, 221, 225, 239, 248, 250, 252, 255, 270, 278, 281, 292, 304,305, 307, 308, 309, 310, 312, 313, 314, 315, 336, 340, 341, 343,349, 350, 352, 353, 361, 367, 370, 376, 383, 384, 387, 389, 390,392],inplace=True)"
      ],
      "metadata": {
        "id": "PdOspw7SooO1"
      },
      "execution_count": 19,
      "outputs": []
    },
    {
      "cell_type": "code",
      "source": [
        "#Handling outliers in 'famrel'\n",
        "Q1=np.percentile(data['famrel'],25,interpolation='midpoint')\n",
        "Q2=np.percentile(data['famrel'],50,interpolation='midpoint')\n",
        "Q3=np.percentile(data['famrel'],75,interpolation='midpoint')\n",
        "print('Q1=',Q1)\n",
        "print('Q2=',Q2)\n",
        "print('Q3=',Q3)\n",
        "IQR=Q3-Q1\n",
        "low_lim=Q1-1.5*IQR\n",
        "up_lim=Q3+1.5*IQR\n",
        "print('low_lim=',low_lim)\n",
        "print('up_lim=',up_lim)\n",
        "outlier=[]\n",
        "for x in data['famrel']:\n",
        "  if((x>up_lim)or (x<low_lim)):\n",
        "    outlier.append(x)\n",
        "outlier"
      ],
      "metadata": {
        "colab": {
          "base_uri": "https://localhost:8080/"
        },
        "id": "Kozeh3u8ouo-",
        "outputId": "619e26ce-9230-483f-b9cc-00e6a8ffad2d"
      },
      "execution_count": 20,
      "outputs": [
        {
          "output_type": "stream",
          "name": "stdout",
          "text": [
            "Q1= 4.0\n",
            "Q2= 4.0\n",
            "Q3= 5.0\n",
            "low_lim= 2.5\n",
            "up_lim= 6.5\n"
          ]
        },
        {
          "output_type": "execute_result",
          "data": {
            "text/plain": [
              "[2, 2, 2, 2, 2, 2, 1, 1, 2, 2, 2, 2, 1, 1, 2, 2]"
            ]
          },
          "metadata": {},
          "execution_count": 20
        }
      ]
    },
    {
      "cell_type": "code",
      "source": [
        "ind1 =data[\"famrel\"]<low_lim\n",
        "data.loc[ind1].index"
      ],
      "metadata": {
        "colab": {
          "base_uri": "https://localhost:8080/"
        },
        "id": "x_5kiVp3o0g-",
        "outputId": "87c57e76-1a83-4366-9f6c-93831fda79da"
      },
      "execution_count": 21,
      "outputs": [
        {
          "output_type": "execute_result",
          "data": {
            "text/plain": [
              "Int64Index([27, 37, 46, 60, 79, 156, 184, 207, 222, 238, 240, 296, 299, 357,\n",
              "            363, 391],\n",
              "           dtype='int64')"
            ]
          },
          "metadata": {},
          "execution_count": 21
        }
      ]
    },
    {
      "cell_type": "code",
      "source": [
        "data.drop([27, 37, 46, 60, 79, 156, 184, 207, 222, 238, 240, 296, 299, 357,363, 391],inplace=True)"
      ],
      "metadata": {
        "id": "VuHMQlsKo5GF"
      },
      "execution_count": 22,
      "outputs": []
    },
    {
      "cell_type": "code",
      "source": [
        "#Handling outliers in 'freetime'\n",
        "Q1=np.percentile(data['freetime'],25,interpolation='midpoint')\n",
        "Q2=np.percentile(data['freetime'],50,interpolation='midpoint')\n",
        "Q3=np.percentile(data['freetime'],75,interpolation='midpoint')\n",
        "print('Q1=',Q1)\n",
        "print('Q2=',Q2)\n",
        "print('Q3=',Q3)\n",
        "IQR=Q3-Q1\n",
        "low_lim=Q1-1.5*IQR\n",
        "up_lim=Q3+1.5*IQR\n",
        "print('low_lim=',low_lim)\n",
        "print('up_lim=',up_lim)\n",
        "outlier=[]\n",
        "for x in data['freetime']:\n",
        "  if((x>up_lim)or (x<low_lim)):\n",
        "    outlier.append(x)\n",
        "outlier"
      ],
      "metadata": {
        "colab": {
          "base_uri": "https://localhost:8080/"
        },
        "id": "yrzz-4Uao-tc",
        "outputId": "3af06f37-b699-4e9c-efb0-bae57f1c7ca0"
      },
      "execution_count": 23,
      "outputs": [
        {
          "output_type": "stream",
          "name": "stdout",
          "text": [
            "Q1= 3.0\n",
            "Q2= 3.0\n",
            "Q3= 4.0\n",
            "low_lim= 1.5\n",
            "up_lim= 5.5\n"
          ]
        },
        {
          "output_type": "execute_result",
          "data": {
            "text/plain": [
              "[1, 1, 1, 1, 1, 1, 1, 1, 1, 1]"
            ]
          },
          "metadata": {},
          "execution_count": 23
        }
      ]
    },
    {
      "cell_type": "code",
      "source": [
        "ind1 =data[\"freetime\"]<low_lim\n",
        "data.loc[ind1].index"
      ],
      "metadata": {
        "colab": {
          "base_uri": "https://localhost:8080/"
        },
        "id": "8NndguT2pCRj",
        "outputId": "4a80370a-a8fb-48b4-fbfc-1f54735cc2b7"
      },
      "execution_count": 24,
      "outputs": [
        {
          "output_type": "execute_result",
          "data": {
            "text/plain": [
              "Int64Index([7, 19, 68, 89, 168, 189, 260, 276, 301, 378], dtype='int64')"
            ]
          },
          "metadata": {},
          "execution_count": 24
        }
      ]
    },
    {
      "cell_type": "code",
      "source": [
        "data.drop([7, 19, 68, 89, 168, 189, 260, 276, 301, 378],inplace=True)"
      ],
      "metadata": {
        "id": "lTL_VNU9pGfL"
      },
      "execution_count": 25,
      "outputs": []
    },
    {
      "cell_type": "code",
      "source": [
        "#Handling outliers in 'Dalc'\n",
        "Q1=np.percentile(data['Dalc'],25,interpolation='midpoint')\n",
        "Q2=np.percentile(data['Dalc'],50,interpolation='midpoint')\n",
        "Q3=np.percentile(data['Dalc'],75,interpolation='midpoint')\n",
        "print('Q1=',Q1)\n",
        "print('Q2=',Q2)\n",
        "print('Q3=',Q3)\n",
        "IQR=Q3-Q1\n",
        "low_lim=Q1-1.5*IQR\n",
        "up_lim=Q3+1.5*IQR\n",
        "print('low_lim=',low_lim)\n",
        "print('up_lim=',up_lim)\n",
        "outlier=[]\n",
        "for x in data['Dalc']:\n",
        "  if((x>up_lim)or (x<low_lim)):\n",
        "    outlier.append(x)\n",
        "outlier"
      ],
      "metadata": {
        "colab": {
          "base_uri": "https://localhost:8080/"
        },
        "id": "9AoIKiE1pMFj",
        "outputId": "c53e9e4b-822a-4829-b27c-899b5775b109"
      },
      "execution_count": 26,
      "outputs": [
        {
          "output_type": "stream",
          "name": "stdout",
          "text": [
            "Q1= 1.0\n",
            "Q2= 1.0\n",
            "Q3= 2.0\n",
            "low_lim= -0.5\n",
            "up_lim= 3.5\n"
          ]
        },
        {
          "output_type": "execute_result",
          "data": {
            "text/plain": [
              "[5, 4, 5, 4, 4, 4, 5, 5, 4]"
            ]
          },
          "metadata": {},
          "execution_count": 26
        }
      ]
    },
    {
      "cell_type": "code",
      "source": [
        "ind1 =data[\"Dalc\"]>up_lim\n",
        "data.loc[ind1].index"
      ],
      "metadata": {
        "colab": {
          "base_uri": "https://localhost:8080/"
        },
        "id": "g6GQ14vYpQwT",
        "outputId": "da967a35-5273-4810-811f-0a8082cda64c"
      },
      "execution_count": 27,
      "outputs": [
        {
          "output_type": "execute_result",
          "data": {
            "text/plain": [
              "Int64Index([29, 54, 100, 175, 192, 211, 223, 236, 369], dtype='int64')"
            ]
          },
          "metadata": {},
          "execution_count": 27
        }
      ]
    },
    {
      "cell_type": "code",
      "source": [
        "data.drop([29, 54, 100, 175, 192, 211, 223, 236, 369],inplace=True)"
      ],
      "metadata": {
        "id": "Ca3gFSQgpZ6y"
      },
      "execution_count": 28,
      "outputs": []
    },
    {
      "cell_type": "code",
      "source": [
        "#Handling outliers in 'absences'\n",
        "Q1=np.percentile(data['absences'],25,interpolation='midpoint')\n",
        "Q2=np.percentile(data['absences'],50,interpolation='midpoint')\n",
        "Q3=np.percentile(data['absences'],75,interpolation='midpoint')\n",
        "print('Q1=',Q1)\n",
        "print('Q2=',Q2)\n",
        "print('Q3=',Q3)\n",
        "IQR=Q3-Q1\n",
        "low_lim=Q1-1.5*IQR\n",
        "up_lim=Q3+1.5*IQR\n",
        "print('low_lim=',low_lim)\n",
        "print('up_lim=',up_lim)\n",
        "outlier=[]\n",
        "for x in data['absences']:\n",
        "  if((x>up_lim)or (x<low_lim)):\n",
        "    outlier.append(x)\n",
        "outlier"
      ],
      "metadata": {
        "colab": {
          "base_uri": "https://localhost:8080/"
        },
        "id": "YvCYxMXwpf_8",
        "outputId": "4fbbfc56-9094-4d71-a637-6e31d8558fbf"
      },
      "execution_count": 29,
      "outputs": [
        {
          "output_type": "stream",
          "name": "stdout",
          "text": [
            "Q1= 0.0\n",
            "Q2= 2.0\n",
            "Q3= 6.0\n",
            "low_lim= -9.0\n",
            "up_lim= 15.0\n"
          ]
        },
        {
          "output_type": "execute_result",
          "data": {
            "text/plain": [
              "[54, 26, 18, 16, 56, 18, 18, 20, 22, 30, 20, 23, 16, 17]"
            ]
          },
          "metadata": {},
          "execution_count": 29
        }
      ]
    },
    {
      "cell_type": "code",
      "source": [
        "ind1 =data[\"absences\"]>up_lim\n",
        "data.loc[ind1].index"
      ],
      "metadata": {
        "colab": {
          "base_uri": "https://localhost:8080/"
        },
        "id": "prVsxqZ4pl_L",
        "outputId": "55bb92d2-8bcd-4071-b55f-5d656c7394f8"
      },
      "execution_count": 30,
      "outputs": [
        {
          "output_type": "execute_result",
          "data": {
            "text/plain": [
              "Int64Index([74, 103, 123, 133, 183, 203, 234, 237, 277, 280, 311, 320, 335,\n",
              "            379],\n",
              "           dtype='int64')"
            ]
          },
          "metadata": {},
          "execution_count": 30
        }
      ]
    },
    {
      "cell_type": "code",
      "source": [
        "data.drop([74, 103, 123, 133, 183, 203, 234, 237, 277, 280, 311, 320, 335,379],inplace=True)"
      ],
      "metadata": {
        "id": "WQ-b78qwpqqK"
      },
      "execution_count": 31,
      "outputs": []
    },
    {
      "cell_type": "markdown",
      "source": [
        "Now all the outliers are removed\n"
      ],
      "metadata": {
        "id": "ykGc6w1QpvDT"
      }
    },
    {
      "cell_type": "code",
      "source": [
        "data.shape"
      ],
      "metadata": {
        "colab": {
          "base_uri": "https://localhost:8080/"
        },
        "id": "fPYJ_Pydp8hc",
        "outputId": "f67942ad-a2e1-466c-d905-40f88f9a18ec"
      },
      "execution_count": 32,
      "outputs": [
        {
          "output_type": "execute_result",
          "data": {
            "text/plain": [
              "(231, 31)"
            ]
          },
          "metadata": {},
          "execution_count": 32
        }
      ]
    },
    {
      "cell_type": "code",
      "source": [
        "data.columns"
      ],
      "metadata": {
        "colab": {
          "base_uri": "https://localhost:8080/"
        },
        "id": "wttYidHSrZfY",
        "outputId": "3ebb7f48-9093-4f21-d0af-c68f0f45a265"
      },
      "execution_count": 33,
      "outputs": [
        {
          "output_type": "execute_result",
          "data": {
            "text/plain": [
              "Index(['school', 'sex', 'age', 'address', 'famsize', 'Pstatus', 'Medu', 'Fedu',\n",
              "       'Mjob', 'Fjob', 'reason', 'guardian', 'traveltime', 'studytime',\n",
              "       'failures', 'schoolsup', 'famsup', 'paid', 'activities', 'nursery',\n",
              "       'higher', 'internet', 'romantic', 'famrel', 'freetime', 'goout', 'Dalc',\n",
              "       'Walc', 'health', 'absences', 'passed'],\n",
              "      dtype='object')"
            ]
          },
          "metadata": {},
          "execution_count": 33
        }
      ]
    },
    {
      "cell_type": "code",
      "source": [
        "from sklearn.preprocessing import LabelEncoder\n",
        "le = LabelEncoder()\n",
        "data[\"passed\"] = le.fit_transform(data[\"passed\"])"
      ],
      "metadata": {
        "id": "4anhHuZn68NF"
      },
      "execution_count": 34,
      "outputs": []
    },
    {
      "cell_type": "code",
      "source": [
        "data['time']=data['freetime']+data['goout']"
      ],
      "metadata": {
        "id": "TkQO5Cp7reoe"
      },
      "execution_count": 35,
      "outputs": []
    },
    {
      "cell_type": "code",
      "source": [
        "data['alc_con']=data['Dalc']+data['Walc']"
      ],
      "metadata": {
        "id": "lKzIkJiBr1iP"
      },
      "execution_count": 36,
      "outputs": []
    },
    {
      "cell_type": "code",
      "source": [
        "data=data.drop(['freetime','goout','Dalc','Walc'],axis=1)"
      ],
      "metadata": {
        "id": "OzoG_qYVsobd"
      },
      "execution_count": 37,
      "outputs": []
    },
    {
      "cell_type": "code",
      "source": [
        "data.columns"
      ],
      "metadata": {
        "colab": {
          "base_uri": "https://localhost:8080/"
        },
        "id": "gHUXGbSztBKW",
        "outputId": "8d3db74f-f2fd-4539-ba46-fd24419b5440"
      },
      "execution_count": 38,
      "outputs": [
        {
          "output_type": "execute_result",
          "data": {
            "text/plain": [
              "Index(['school', 'sex', 'age', 'address', 'famsize', 'Pstatus', 'Medu', 'Fedu',\n",
              "       'Mjob', 'Fjob', 'reason', 'guardian', 'traveltime', 'studytime',\n",
              "       'failures', 'schoolsup', 'famsup', 'paid', 'activities', 'nursery',\n",
              "       'higher', 'internet', 'romantic', 'famrel', 'health', 'absences',\n",
              "       'passed', 'time', 'alc_con'],\n",
              "      dtype='object')"
            ]
          },
          "metadata": {},
          "execution_count": 38
        }
      ]
    },
    {
      "cell_type": "code",
      "source": [
        "y=data['passed']"
      ],
      "metadata": {
        "id": "2SE17I5LtOZb"
      },
      "execution_count": 39,
      "outputs": []
    },
    {
      "cell_type": "code",
      "source": [
        "x=data.drop(['school','sex','guardian','nursery','reason'],axis=1)"
      ],
      "metadata": {
        "id": "ssDJ9iDL0_5m"
      },
      "execution_count": 40,
      "outputs": []
    },
    {
      "cell_type": "code",
      "source": [
        "address_new =pd.get_dummies(x[\"address\"])\n",
        "famsize_new =pd.get_dummies(x[\"famsize\"])\n",
        "x=pd.concat([x,address_new,famsize_new],axis=1)"
      ],
      "metadata": {
        "id": "xcY5F6Fv1Yq8"
      },
      "execution_count": 41,
      "outputs": []
    },
    {
      "cell_type": "code",
      "source": [
        "x = x.drop([\"address\",\"famsize\"],axis=1)"
      ],
      "metadata": {
        "id": "mfydICup1fpu"
      },
      "execution_count": 42,
      "outputs": []
    },
    {
      "cell_type": "code",
      "source": [
        "from sklearn.preprocessing import LabelEncoder\n",
        "le = LabelEncoder()\n",
        "x[\"Mjob\"] = le.fit_transform(x[\"Mjob\"])\n",
        "x[\"Fjob\"] = le.fit_transform(x[\"Fjob\"])"
      ],
      "metadata": {
        "id": "Zhpk55511k6E"
      },
      "execution_count": 43,
      "outputs": []
    },
    {
      "cell_type": "code",
      "source": [
        "pstatus_new =pd.get_dummies(x[\"Pstatus\"])\n",
        "ssup_new =pd.get_dummies(x[\"schoolsup\"])\n",
        "x=pd.concat([x,pstatus_new,ssup_new],axis=1)\n",
        "x = x.drop([\"Pstatus\",\"schoolsup\"],axis=1)"
      ],
      "metadata": {
        "id": "OSxsLrwl13Dj"
      },
      "execution_count": 44,
      "outputs": []
    },
    {
      "cell_type": "code",
      "source": [
        "fsup_new =pd.get_dummies(x[\"famsup\"])\n",
        "paid_new =pd.get_dummies(x[\"paid\"])\n",
        "x=pd.concat([x,fsup_new,paid_new],axis=1)\n",
        "x = x.drop([\"famsup\",\"paid\"],axis=1)"
      ],
      "metadata": {
        "id": "c_NPZD8J2OaL"
      },
      "execution_count": 45,
      "outputs": []
    },
    {
      "cell_type": "code",
      "source": [
        "act_new =pd.get_dummies(x[\"activities\"])\n",
        "higher_new =pd.get_dummies(x[\"higher\"])\n",
        "x=pd.concat([x,act_new,higher_new],axis=1)\n",
        "x = x.drop([\"activities\",\"higher\"],axis=1)"
      ],
      "metadata": {
        "id": "6_07NpQ12li0"
      },
      "execution_count": 46,
      "outputs": []
    },
    {
      "cell_type": "code",
      "source": [
        "int_new =pd.get_dummies(x[\"internet\"])\n",
        "rom_new=pd.get_dummies(x[\"romantic\"])\n",
        "x=pd.concat([x,int_new,rom_new],axis=1)\n",
        "x = x.drop([\"internet\",\"romantic\"],axis=1)"
      ],
      "metadata": {
        "id": "umm8qlPc29eJ"
      },
      "execution_count": 47,
      "outputs": []
    },
    {
      "cell_type": "code",
      "source": [
        "x.columns"
      ],
      "metadata": {
        "colab": {
          "base_uri": "https://localhost:8080/"
        },
        "id": "mCpFuuYm3NJq",
        "outputId": "1b239ac6-fb5c-4d9c-fde1-e5a9af443161"
      },
      "execution_count": 48,
      "outputs": [
        {
          "output_type": "execute_result",
          "data": {
            "text/plain": [
              "Index(['age', 'Medu', 'Fedu', 'Mjob', 'Fjob', 'traveltime', 'studytime',\n",
              "       'failures', 'famrel', 'health', 'absences', 'passed', 'time', 'alc_con',\n",
              "       'R', 'U', 'GT3', 'LE3', 'A', 'T', 'no', 'yes', 'no', 'yes', 'no', 'yes',\n",
              "       'no', 'yes', 'no', 'yes', 'no', 'yes', 'no', 'yes'],\n",
              "      dtype='object')"
            ]
          },
          "metadata": {},
          "execution_count": 48
        }
      ]
    },
    {
      "cell_type": "code",
      "source": [
        "from sklearn.model_selection import train_test_split\n",
        "x_train,x_test,y_train,y_test=train_test_split(x,y,random_state=42,test_size=0.25)"
      ],
      "metadata": {
        "id": "0Uqytxvl3RP_"
      },
      "execution_count": 49,
      "outputs": []
    },
    {
      "cell_type": "code",
      "source": [
        "from sklearn.linear_model import LogisticRegression\n",
        "logit_model =LogisticRegression()\n",
        "logit_model.fit(x_train,y_train)\n",
        "y_pred =logit_model.predict(x_test)"
      ],
      "metadata": {
        "id": "FbpsicLV37PI"
      },
      "execution_count": null,
      "outputs": []
    },
    {
      "cell_type": "code",
      "source": [
        "from sklearn.metrics import confusion_matrix,accuracy_score,precision_score,recall_score,f1_score\n",
        "print(\"Accuracy is :\",accuracy_score(y_test,y_pred))\n",
        "print(\"Precision is :\",precision_score(y_test,y_pred))\n",
        "print(\"Recall is :\",recall_score(y_test,y_pred))\n",
        "print(\"f1 score is :\",f1_score(y_test,y_pred))\n",
        "print(\"confusion matrix \",confusion_matrix(y_test,y_pred))"
      ],
      "metadata": {
        "colab": {
          "base_uri": "https://localhost:8080/"
        },
        "id": "yH4K9FAe7DzL",
        "outputId": "adbecdf8-3995-43f5-a4d4-ed5501aa3c90"
      },
      "execution_count": 51,
      "outputs": [
        {
          "output_type": "stream",
          "name": "stdout",
          "text": [
            "Accuracy is : 1.0\n",
            "Precision is : 1.0\n",
            "Recall is : 1.0\n",
            "f1 score is : 1.0\n",
            "confusion matrix  [[16  0]\n",
            " [ 0 42]]\n"
          ]
        }
      ]
    },
    {
      "cell_type": "markdown",
      "source": [
        "Our Logistic Regression model is perfect."
      ],
      "metadata": {
        "id": "BRm22DN779aY"
      }
    }
  ]
}